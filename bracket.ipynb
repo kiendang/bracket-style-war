{
 "cells": [
  {
   "cell_type": "markdown",
   "metadata": {
    "deletable": true,
    "editable": true
   },
   "source": [
    "# End the Bracket War\n",
    "*or at least an attempt to*"
   ]
  },
  {
   "cell_type": "markdown",
   "metadata": {
    "deletable": true,
    "editable": true
   },
   "source": [
    "A few days ago we started an `R` project at work. We want the code to be as consistent as possible but don't really have a coding style guide in place to follow so we decided to just make one. One of the things we need to settle on is where to place the opening bracket of a code block (It's the most important thing in the world I know), on which we disagree with one other. Basically there are 2 dominant styles:\n",
    "\n",
    "    function(...) {\n",
    "        ...\n",
    "        return()\n",
    "    }\n",
    "\n",
    "    if ... {\n",
    "        ...\n",
    "    } else {\n",
    "        ...\n",
    "    }\n",
    "    \n",
    "    while ... {\n",
    "        ...\n",
    "    }\n",
    "\n",
    "which I call the same-line style, and\n",
    "\n",
    "    function(...)\n",
    "    {\n",
    "        ...\n",
    "        return()\n",
    "    }\n",
    "    \n",
    "    if ...\n",
    "    {\n",
    "        ...\n",
    "    } \n",
    "    else\n",
    "    {\n",
    "        ...\n",
    "    }\n",
    "    \n",
    "    while ...\n",
    "    {\n",
    "        ...\n",
    "    }\n",
    "\n",
    "which I call the new-line style. Personally I prefer the same-line style. I can't justify a single bracket occupying a whole line. And since you have code indentation you don't really need opening bracket on a new line to see where your code block begins. And of course the most important reason: same-lines just look much prettier, but that's just my opinion and I know quite a few people who disagree with me.\n",
    "\n",
    "I was curious to see which style is more popular. Having too much time on my hands I conducted a survey around the office, but the sample size is too small so it doesn't really mean anything.\n",
    "\n",
    "Thus I decided to just ask every one in the `R` developer community (or at least the most important people) instead. The idea is simple: crawl code from the most popular `R` packages and see which style is used most often.\n",
    "\n",
    "Below is the code + explanation. If you are impatient or just want to see the result here's a [TL;DR](#And-the-results). If you are even more impatient here's a [TL;DR(TL;DR)](#Conclusion). If you are interested in trying this yourself here's the [link](https://github.com/kiendang/bracket-style-war) to the Jupyter notebook."
   ]
  },
  {
   "cell_type": "markdown",
   "metadata": {
    "deletable": true,
    "editable": true
   },
   "source": [
    "## Dependencies"
   ]
  },
  {
   "cell_type": "markdown",
   "metadata": {
    "deletable": true,
    "editable": true
   },
   "source": [
    "First we load the few packages we need for this project. Apart from those listed below we also need `stringr`, `readr` and `data.table`, but I prefer not to attach them here and instead access the methods I want using `::`."
   ]
  },
  {
   "cell_type": "code",
   "execution_count": 1,
   "metadata": {
    "collapsed": false,
    "deletable": true,
    "editable": true
   },
   "outputs": [
    {
     "name": "stderr",
     "output_type": "stream",
     "text": [
      "\n",
      "Attaching package: ‘dplyr’\n",
      "\n",
      "The following objects are masked from ‘package:stats’:\n",
      "\n",
      "    filter, lag\n",
      "\n",
      "The following objects are masked from ‘package:base’:\n",
      "\n",
      "    intersect, setdiff, setequal, union\n",
      "\n",
      "\n",
      "Attaching package: ‘git2r’\n",
      "\n",
      "The following object is masked from ‘package:DBI’:\n",
      "\n",
      "    fetch\n",
      "\n"
     ]
    }
   ],
   "source": [
    "library(DBI)\n",
    "library(dplyr)\n",
    "library(ggplot2)\n",
    "library(git2r)\n",
    "library(MonetDBLite)\n",
    "library(tidyr)\n",
    "library(repr)"
   ]
  },
  {
   "cell_type": "code",
   "execution_count": 2,
   "metadata": {
    "collapsed": true,
    "deletable": true,
    "editable": true
   },
   "outputs": [],
   "source": [
    "options(repr.plot.width = 4, repr.plot.height = 4)"
   ]
  },
  {
   "cell_type": "markdown",
   "metadata": {
    "deletable": true,
    "editable": true
   },
   "source": [
    "## Getting the 100 most downloaded packages\n",
    "\n",
    "[cran-logs](http://cran-logs.rstudio.com/) provides package download statistics of [RStudio CRAN mirror](http://cran.rstudio.com/) in csv format. Each file contains download data in one day from 01/10/2012 to present. A row in a file corresponds to 1 download, which tell us which package was downloaded, at what time and from where, as well as other information.\n",
    "\n",
    "We can get the names of the 100 most downloaded packages by downloading all these files, merging them in some way, counting the total number of downloads by packages and choose the 100 packages with the most download counts."
   ]
  },
  {
   "cell_type": "markdown",
   "metadata": {
    "deletable": true,
    "editable": true
   },
   "source": [
    "  "
   ]
  },
  {
   "cell_type": "markdown",
   "metadata": {
    "deletable": true,
    "editable": true
   },
   "source": [
    "Create a directory to download CRAN statistics csv files:"
   ]
  },
  {
   "cell_type": "code",
   "execution_count": 3,
   "metadata": {
    "collapsed": false,
    "deletable": true,
    "editable": true
   },
   "outputs": [],
   "source": [
    "data_dir <- \"data\"\n",
    "if (!dir.exists(data_dir)) {\n",
    "    dir.create(data_dir)\n",
    "}"
   ]
  },
  {
   "cell_type": "markdown",
   "metadata": {
    "deletable": true,
    "editable": true
   },
   "source": [
    "Get all the dates from 01/10/2012 to yesterday:"
   ]
  },
  {
   "cell_type": "code",
   "execution_count": 4,
   "metadata": {
    "collapsed": true,
    "deletable": true,
    "editable": true
   },
   "outputs": [],
   "source": [
    "start <- as.Date(\"2012-10-01\")\n",
    "end <- Sys.Date() - 1\n",
    "cran_stats <- data.frame(date = seq(start, end, \"day\"))"
   ]
  },
  {
   "cell_type": "markdown",
   "metadata": {
    "deletable": true,
    "editable": true
   },
   "source": [
    "Getting the url for each file as well as the location to which it will be downloaded:"
   ]
  },
  {
   "cell_type": "code",
   "execution_count": 5,
   "metadata": {
    "collapsed": false,
    "deletable": true,
    "editable": true
   },
   "outputs": [
    {
     "data": {
      "text/html": [
       "<table>\n",
       "<thead><tr><th scope=col>date</th><th scope=col>year</th><th scope=col>url</th><th scope=col>path</th></tr></thead>\n",
       "<tbody>\n",
       "\t<tr><td>2012-10-01                                         </td><td>2012                                               </td><td>http://cran-logs.rstudio.com/2012/2012-10-01.csv.gz</td><td>data/2012-10-01.csv.gz                             </td></tr>\n",
       "\t<tr><td>2012-10-02                                         </td><td>2012                                               </td><td>http://cran-logs.rstudio.com/2012/2012-10-02.csv.gz</td><td>data/2012-10-02.csv.gz                             </td></tr>\n",
       "\t<tr><td>2012-10-03                                         </td><td>2012                                               </td><td>http://cran-logs.rstudio.com/2012/2012-10-03.csv.gz</td><td>data/2012-10-03.csv.gz                             </td></tr>\n",
       "\t<tr><td>2012-10-04                                         </td><td>2012                                               </td><td>http://cran-logs.rstudio.com/2012/2012-10-04.csv.gz</td><td>data/2012-10-04.csv.gz                             </td></tr>\n",
       "\t<tr><td>2012-10-05                                         </td><td>2012                                               </td><td>http://cran-logs.rstudio.com/2012/2012-10-05.csv.gz</td><td>data/2012-10-05.csv.gz                             </td></tr>\n",
       "\t<tr><td>2012-10-06                                         </td><td>2012                                               </td><td>http://cran-logs.rstudio.com/2012/2012-10-06.csv.gz</td><td>data/2012-10-06.csv.gz                             </td></tr>\n",
       "</tbody>\n",
       "</table>\n"
      ],
      "text/latex": [
       "\\begin{tabular}{r|llll}\n",
       " date & year & url & path\\\\\n",
       "\\hline\n",
       "\t 2012-10-01                                          & 2012                                                & http://cran-logs.rstudio.com/2012/2012-10-01.csv.gz & data/2012-10-01.csv.gz                             \\\\\n",
       "\t 2012-10-02                                          & 2012                                                & http://cran-logs.rstudio.com/2012/2012-10-02.csv.gz & data/2012-10-02.csv.gz                             \\\\\n",
       "\t 2012-10-03                                          & 2012                                                & http://cran-logs.rstudio.com/2012/2012-10-03.csv.gz & data/2012-10-03.csv.gz                             \\\\\n",
       "\t 2012-10-04                                          & 2012                                                & http://cran-logs.rstudio.com/2012/2012-10-04.csv.gz & data/2012-10-04.csv.gz                             \\\\\n",
       "\t 2012-10-05                                          & 2012                                                & http://cran-logs.rstudio.com/2012/2012-10-05.csv.gz & data/2012-10-05.csv.gz                             \\\\\n",
       "\t 2012-10-06                                          & 2012                                                & http://cran-logs.rstudio.com/2012/2012-10-06.csv.gz & data/2012-10-06.csv.gz                             \\\\\n",
       "\\end{tabular}\n"
      ],
      "text/markdown": [
       "\n",
       "date | year | url | path | \n",
       "|---|---|---|---|---|---|\n",
       "| 2012-10-01                                          | 2012                                                | http://cran-logs.rstudio.com/2012/2012-10-01.csv.gz | data/2012-10-01.csv.gz                              | \n",
       "| 2012-10-02                                          | 2012                                                | http://cran-logs.rstudio.com/2012/2012-10-02.csv.gz | data/2012-10-02.csv.gz                              | \n",
       "| 2012-10-03                                          | 2012                                                | http://cran-logs.rstudio.com/2012/2012-10-03.csv.gz | data/2012-10-03.csv.gz                              | \n",
       "| 2012-10-04                                          | 2012                                                | http://cran-logs.rstudio.com/2012/2012-10-04.csv.gz | data/2012-10-04.csv.gz                              | \n",
       "| 2012-10-05                                          | 2012                                                | http://cran-logs.rstudio.com/2012/2012-10-05.csv.gz | data/2012-10-05.csv.gz                              | \n",
       "| 2012-10-06                                          | 2012                                                | http://cran-logs.rstudio.com/2012/2012-10-06.csv.gz | data/2012-10-06.csv.gz                              | \n",
       "\n",
       "\n"
      ],
      "text/plain": [
       "  date       year url                                                \n",
       "1 2012-10-01 2012 http://cran-logs.rstudio.com/2012/2012-10-01.csv.gz\n",
       "2 2012-10-02 2012 http://cran-logs.rstudio.com/2012/2012-10-02.csv.gz\n",
       "3 2012-10-03 2012 http://cran-logs.rstudio.com/2012/2012-10-03.csv.gz\n",
       "4 2012-10-04 2012 http://cran-logs.rstudio.com/2012/2012-10-04.csv.gz\n",
       "5 2012-10-05 2012 http://cran-logs.rstudio.com/2012/2012-10-05.csv.gz\n",
       "6 2012-10-06 2012 http://cran-logs.rstudio.com/2012/2012-10-06.csv.gz\n",
       "  path                  \n",
       "1 data/2012-10-01.csv.gz\n",
       "2 data/2012-10-02.csv.gz\n",
       "3 data/2012-10-03.csv.gz\n",
       "4 data/2012-10-04.csv.gz\n",
       "5 data/2012-10-05.csv.gz\n",
       "6 data/2012-10-06.csv.gz"
      ]
     },
     "metadata": {},
     "output_type": "display_data"
    }
   ],
   "source": [
    "cran_stats <-\n",
    "    cran_stats %>%\n",
    "    mutate(year = as.POSIXlt(date)$year + 1900,\n",
    "           url = sprintf(\"http://cran-logs.rstudio.com/%d/%s.csv.gz\", year, date),\n",
    "           path = file.path(data_dir, basename(url)))\n",
    "head(cran_stats)"
   ]
  },
  {
   "cell_type": "markdown",
   "metadata": {
    "deletable": true,
    "editable": true
   },
   "source": [
    "Choose only the files which have not been downloaded before. Files are csv's compressed into gz's which add up to 9.6G."
   ]
  },
  {
   "cell_type": "code",
   "execution_count": 6,
   "metadata": {
    "collapsed": false,
    "deletable": true,
    "editable": true
   },
   "outputs": [],
   "source": [
    "files_to_dl <-\n",
    "    cran_stats %>%\n",
    "    filter(!file.exists(path))"
   ]
  },
  {
   "cell_type": "markdown",
   "metadata": {
    "deletable": true,
    "editable": true
   },
   "source": [
    "Download the files:"
   ]
  },
  {
   "cell_type": "code",
   "execution_count": 7,
   "metadata": {
    "collapsed": true,
    "deletable": true,
    "editable": true
   },
   "outputs": [],
   "source": [
    "if (nrow(files_to_dl) > 0) {\n",
    "    mapply(function(url, path) {\n",
    "        tryCatch(download.file(url, path), error = function(e) {\n",
    "            print(e)\n",
    "        })\n",
    "    }, files_to_dl$url, files_to_dl$path)\n",
    "}"
   ]
  },
  {
   "cell_type": "markdown",
   "metadata": {
    "deletable": true,
    "editable": true
   },
   "source": [
    "Get all the files available, including those downloaded before as well as just downloaded:"
   ]
  },
  {
   "cell_type": "code",
   "execution_count": 8,
   "metadata": {
    "collapsed": true,
    "deletable": true,
    "editable": true
   },
   "outputs": [],
   "source": [
    "cran_stats <-\n",
    "    cran_stats %>%\n",
    "    filter(file.exists(path))"
   ]
  },
  {
   "cell_type": "markdown",
   "metadata": {
    "deletable": true,
    "editable": true
   },
   "source": [
    "Since the total decompressed size of all these files is around 20G which is a bit much for my laptop memory, I'm going to create a database and read them all into a table. The database I'm using is `MonetDB`. Thanks to the `MonetDBLite` package I don't need to go through the hustle of manually setting up a database outside of `R`."
   ]
  },
  {
   "cell_type": "code",
   "execution_count": 9,
   "metadata": {
    "collapsed": false,
    "deletable": true,
    "editable": true
   },
   "outputs": [],
   "source": [
    "db_dir <- \"db\"\n",
    "conn <- dbConnect(MonetDBLite(), db_dir)"
   ]
  },
  {
   "cell_type": "markdown",
   "metadata": {
    "deletable": true,
    "editable": true
   },
   "source": [
    "Create a table to store all the file in `MonetDB` by read in the first file. Here I'm not running this command as well as the next one since I've already read all the files into the database before. However if you want to try this yourself you should run those 2 (one time only)."
   ]
  },
  {
   "cell_type": "code",
   "execution_count": null,
   "metadata": {
    "collapsed": false,
    "deletable": true,
    "editable": true
   },
   "outputs": [],
   "source": [
    "monetdb.read.csv(conn, cran_stats$path[1], \"dl_stats\", create = TRUE)"
   ]
  },
  {
   "cell_type": "markdown",
   "metadata": {
    "deletable": true,
    "editable": true
   },
   "source": [
    "Sequentially read all the files into the table. Alternatively you can first merge all of them into a single file and read it in."
   ]
  },
  {
   "cell_type": "code",
   "execution_count": null,
   "metadata": {
    "collapsed": false,
    "deletable": true,
    "editable": true
   },
   "outputs": [],
   "source": [
    "for (path in cran_stats$path[-1]) {\n",
    "    tryCatch({\n",
    "        monetdb.read.csv(conn, path, \"dl_stats\", create = FALSE)\n",
    "    }, error = function(e) {\n",
    "        print(e)\n",
    "    })\n",
    "}"
   ]
  },
  {
   "cell_type": "markdown",
   "metadata": {
    "deletable": true,
    "editable": true
   },
   "source": [
    "Getting the schema of the table we just created:"
   ]
  },
  {
   "cell_type": "code",
   "execution_count": 10,
   "metadata": {
    "collapsed": false,
    "deletable": true,
    "editable": true
   },
   "outputs": [
    {
     "data": {
      "text/html": [
       "<table>\n",
       "<thead><tr><th scope=col>column</th><th scope=col>type</th><th scope=col>type_digits</th></tr></thead>\n",
       "<tbody>\n",
       "\t<tr><td>date     </td><td>clob     </td><td> 0       </td></tr>\n",
       "\t<tr><td>time     </td><td>clob     </td><td> 0       </td></tr>\n",
       "\t<tr><td>size     </td><td>int      </td><td>32       </td></tr>\n",
       "\t<tr><td>r_version</td><td>clob     </td><td> 0       </td></tr>\n",
       "\t<tr><td>r_arch   </td><td>clob     </td><td> 0       </td></tr>\n",
       "\t<tr><td>r_os     </td><td>clob     </td><td> 0       </td></tr>\n",
       "\t<tr><td>package  </td><td>clob     </td><td> 0       </td></tr>\n",
       "\t<tr><td>version  </td><td>clob     </td><td> 0       </td></tr>\n",
       "\t<tr><td>country  </td><td>clob     </td><td> 0       </td></tr>\n",
       "\t<tr><td>ip_id    </td><td>int      </td><td>32       </td></tr>\n",
       "</tbody>\n",
       "</table>\n"
      ],
      "text/latex": [
       "\\begin{tabular}{r|lll}\n",
       " column & type & type\\_digits\\\\\n",
       "\\hline\n",
       "\t date      & clob      &  0       \\\\\n",
       "\t time      & clob      &  0       \\\\\n",
       "\t size      & int       & 32       \\\\\n",
       "\t r\\_version & clob        &  0         \\\\\n",
       "\t r\\_arch    & clob        &  0         \\\\\n",
       "\t r\\_os      & clob        &  0         \\\\\n",
       "\t package   & clob      &  0       \\\\\n",
       "\t version   & clob      &  0       \\\\\n",
       "\t country   & clob      &  0       \\\\\n",
       "\t ip\\_id     & int         & 32         \\\\\n",
       "\\end{tabular}\n"
      ],
      "text/markdown": [
       "\n",
       "column | type | type_digits | \n",
       "|---|---|---|---|---|---|---|---|---|---|\n",
       "| date      | clob      |  0        | \n",
       "| time      | clob      |  0        | \n",
       "| size      | int       | 32        | \n",
       "| r_version | clob      |  0        | \n",
       "| r_arch    | clob      |  0        | \n",
       "| r_os      | clob      |  0        | \n",
       "| package   | clob      |  0        | \n",
       "| version   | clob      |  0        | \n",
       "| country   | clob      |  0        | \n",
       "| ip_id     | int       | 32        | \n",
       "\n",
       "\n"
      ],
      "text/plain": [
       "   column    type type_digits\n",
       "1  date      clob  0         \n",
       "2  time      clob  0         \n",
       "3  size      int  32         \n",
       "4  r_version clob  0         \n",
       "5  r_arch    clob  0         \n",
       "6  r_os      clob  0         \n",
       "7  package   clob  0         \n",
       "8  version   clob  0         \n",
       "9  country   clob  0         \n",
       "10 ip_id     int  32         "
      ]
     },
     "metadata": {},
     "output_type": "display_data"
    }
   ],
   "source": [
    "schema <- dbGetQuery(conn, \"SELECT c.name as column, c.type, c.type_digits\n",
    "                            FROM sys.columns c INNER JOIN sys.tables t\n",
    "                            ON c.table_id = t.id AND t.name = 'dl_stats'\")\n",
    "schema"
   ]
  },
  {
   "cell_type": "markdown",
   "metadata": {
    "deletable": true,
    "editable": true
   },
   "source": [
    "Get the 100 most downloaded packages:"
   ]
  },
  {
   "cell_type": "code",
   "execution_count": 11,
   "metadata": {
    "collapsed": false,
    "deletable": true,
    "editable": true
   },
   "outputs": [
    {
     "data": {
      "text/html": [
       "<table>\n",
       "<thead><tr><th scope=col>package</th><th scope=col>download_count</th></tr></thead>\n",
       "<tbody>\n",
       "\t<tr><td>Rcpp        </td><td>7147778     </td></tr>\n",
       "\t<tr><td>ggplot2     </td><td>6623242     </td></tr>\n",
       "\t<tr><td>stringr     </td><td>5676205     </td></tr>\n",
       "\t<tr><td>plyr        </td><td>5641686     </td></tr>\n",
       "\t<tr><td>digest      </td><td>5609258     </td></tr>\n",
       "\t<tr><td>reshape2    </td><td>4876988     </td></tr>\n",
       "\t<tr><td>scales      </td><td>4829021     </td></tr>\n",
       "\t<tr><td>colorspace  </td><td>4654707     </td></tr>\n",
       "\t<tr><td>RColorBrewer</td><td>4555700     </td></tr>\n",
       "\t<tr><td>stringi     </td><td>4454863     </td></tr>\n",
       "</tbody>\n",
       "</table>\n"
      ],
      "text/latex": [
       "\\begin{tabular}{r|ll}\n",
       " package & download\\_count\\\\\n",
       "\\hline\n",
       "\t Rcpp         & 7147778     \\\\\n",
       "\t ggplot2      & 6623242     \\\\\n",
       "\t stringr      & 5676205     \\\\\n",
       "\t plyr         & 5641686     \\\\\n",
       "\t digest       & 5609258     \\\\\n",
       "\t reshape2     & 4876988     \\\\\n",
       "\t scales       & 4829021     \\\\\n",
       "\t colorspace   & 4654707     \\\\\n",
       "\t RColorBrewer & 4555700     \\\\\n",
       "\t stringi      & 4454863     \\\\\n",
       "\\end{tabular}\n"
      ],
      "text/markdown": [
       "\n",
       "package | download_count | \n",
       "|---|---|---|---|---|---|---|---|---|---|\n",
       "| Rcpp         | 7147778      | \n",
       "| ggplot2      | 6623242      | \n",
       "| stringr      | 5676205      | \n",
       "| plyr         | 5641686      | \n",
       "| digest       | 5609258      | \n",
       "| reshape2     | 4876988      | \n",
       "| scales       | 4829021      | \n",
       "| colorspace   | 4654707      | \n",
       "| RColorBrewer | 4555700      | \n",
       "| stringi      | 4454863      | \n",
       "\n",
       "\n"
      ],
      "text/plain": [
       "   package      download_count\n",
       "1  Rcpp         7147778       \n",
       "2  ggplot2      6623242       \n",
       "3  stringr      5676205       \n",
       "4  plyr         5641686       \n",
       "5  digest       5609258       \n",
       "6  reshape2     4876988       \n",
       "7  scales       4829021       \n",
       "8  colorspace   4654707       \n",
       "9  RColorBrewer 4555700       \n",
       "10 stringi      4454863       "
      ]
     },
     "metadata": {},
     "output_type": "display_data"
    }
   ],
   "source": [
    "top_pkgs <- dbGetQuery(conn, \"SELECT * FROM\n",
    "                              (SELECT package, count(*) AS download_count\n",
    "                              FROM dl_stats GROUP BY package) AS srsly\n",
    "                              ORDER BY download_count DESC LIMIT 100\")\n",
    "head(top_pkgs, 10)"
   ]
  },
  {
   "cell_type": "markdown",
   "metadata": {
    "deletable": true,
    "editable": true
   },
   "source": [
    "That's all we need from `MonetDB` so I'm going to disconnect from it."
   ]
  },
  {
   "cell_type": "code",
   "execution_count": 12,
   "metadata": {
    "collapsed": false,
    "deletable": true,
    "editable": true
   },
   "outputs": [
    {
     "data": {
      "text/html": [
       "TRUE"
      ],
      "text/latex": [
       "TRUE"
      ],
      "text/markdown": [
       "TRUE"
      ],
      "text/plain": [
       "[1] TRUE"
      ]
     },
     "metadata": {},
     "output_type": "display_data"
    }
   ],
   "source": [
    "dbDisconnect(conn)"
   ]
  },
  {
   "cell_type": "markdown",
   "metadata": {
    "deletable": true,
    "editable": true
   },
   "source": [
    "## Counting number of matches in each style in each package\n",
    "\n",
    "Here we're going to count the number of strings that match either the same line style or the new line style for each package.\n",
    "\n",
    "The way we're doing it is download all the *.R* files in each package. Those reside in the *R* directory on the package. Then we go through each file, count the total number of same-lines and new-lines. We do that for all the 100 packages."
   ]
  },
  {
   "cell_type": "markdown",
   "metadata": {
    "deletable": true,
    "editable": true
   },
   "source": [
    "  "
   ]
  },
  {
   "cell_type": "markdown",
   "metadata": {
    "deletable": true,
    "editable": true
   },
   "source": [
    "Define the regular expression to match either group 1, the same-line style, or group 2, the new-line style:"
   ]
  },
  {
   "cell_type": "code",
   "execution_count": 13,
   "metadata": {
    "collapsed": false,
    "deletable": true,
    "editable": true
   },
   "outputs": [
    {
     "name": "stdout",
     "output_type": "stream",
     "text": [
      "((?:(?:function\\h*\\(.*\\)|(?:(?:if|while)\\h+\\S[^\\v]+)|(?:if|while)\\(.*\\))|else)\\h*\\{\\h*\\v)|((?:(?:function\\h*\\(.*\\)|(?:(?:if|while)\\h+\\S[^\\v]+)|(?:if|while)\\(.*\\))|else)\\h*\\v\\s*\\{\\h*\\v)"
     ]
    }
   ],
   "source": [
    "# I know it's probably possible to shorten this regex but this does the job.\n",
    "before_parents <- \"(?:(?:function\\\\h*\\\\(.*\\\\)|(?:(?:if|while)\\\\h+\\\\S[^\\\\v]+)|(?:if|while)\\\\(.*\\\\))|else)\"\n",
    "patterns <- sprintf(\"(%s%s)|(%s%s)\",\n",
    "                    before_parents, \"\\\\h*\\\\{\\\\h*\\\\v\",\n",
    "                    before_parents, \"\\\\h*\\\\v\\\\s*\\\\{\\\\h*\\\\v\")\n",
    "cat(patterns)"
   ]
  },
  {
   "cell_type": "markdown",
   "metadata": {
    "deletable": true,
    "editable": true
   },
   "source": [
    "Create a directory where we clone the package:"
   ]
  },
  {
   "cell_type": "code",
   "execution_count": 14,
   "metadata": {
    "collapsed": true,
    "deletable": true,
    "editable": true
   },
   "outputs": [],
   "source": [
    "repos_dir <- \"repos\"\n",
    "if (!dir.exists(repos_dir)) {\n",
    "    dir.create(repose_dir)\n",
    "}"
   ]
  },
  {
   "cell_type": "markdown",
   "metadata": {
    "deletable": true,
    "editable": true
   },
   "source": [
    "Create a csv file where we store the result. The header is *package* (name of package), *same_line* (number of strings that match the same line styles), *new_line* (number of strings that match the new line style), *result* (*same_line* if there are more same-lines than new-lines, *new_line* if there are more new_lines and *tie* if there's a tie)."
   ]
  },
  {
   "cell_type": "code",
   "execution_count": 15,
   "metadata": {
    "collapsed": false,
    "deletable": true,
    "editable": true
   },
   "outputs": [
    {
     "data": {
      "text/html": [
       "<table>\n",
       "<thead><tr><th scope=col>package</th><th scope=col>same_line</th><th scope=col>new_line</th><th scope=col>result</th></tr></thead>\n",
       "<tbody>\n",
       "</tbody>\n",
       "</table>\n"
      ],
      "text/latex": [
       "\\begin{tabular}{r|llll}\n",
       " package & same\\_line & new\\_line & result\\\\\n",
       "\\hline\n",
       "\\end{tabular}\n"
      ],
      "text/markdown": [
       "\n",
       "package | same_line | new_line | result | \n",
       "||\n",
       "\n",
       "\n"
      ],
      "text/plain": [
       "     package same_line new_line result"
      ]
     },
     "metadata": {},
     "output_type": "display_data"
    }
   ],
   "source": [
    "results <- data.frame(package = character(),\n",
    "                      same_line = integer(),\n",
    "                      new_line = integer(),\n",
    "                      result = character(), stringsAsFactors = FALSE)\n",
    "results"
   ]
  },
  {
   "cell_type": "markdown",
   "metadata": {
    "deletable": true,
    "editable": true
   },
   "source": [
    "Again I'm not going to run this code block as well as the next since I've done this before, but you should if you want to try this yourself. It doesn't take that long though. It's only a few minutes for me and 5 of those are due to the 3 seconds of waiting I put after I'm done with each package."
   ]
  },
  {
   "cell_type": "code",
   "execution_count": 16,
   "metadata": {
    "collapsed": true,
    "deletable": true,
    "editable": true
   },
   "outputs": [],
   "source": [
    "result_file <- \"result.csv\""
   ]
  },
  {
   "cell_type": "code",
   "execution_count": null,
   "metadata": {
    "collapsed": true,
    "deletable": true,
    "editable": true
   },
   "outputs": [],
   "source": [
    "write.table(results, file = result_file, sep = \",\",\n",
    "            row.names = FALSE, col.names = TRUE, quote = FALSE)"
   ]
  },
  {
   "cell_type": "markdown",
   "metadata": {
    "deletable": true,
    "editable": true
   },
   "source": [
    "We go through each package, clone the *R* directory from [an unofficial read-only mirror of all CRAN R packages](https://github.com/cran). The reason why I don't use an official CRAN mirror is because there each package is compressed into a single *.tar.gz* file while I want the *R* directory only.\n",
    "\n",
    "After getting the code files we go through each of them, count the total number of matches in each style, append the result to the csv file we created earlier, delete the code, and wait a few before we start again with another package."
   ]
  },
  {
   "cell_type": "code",
   "execution_count": null,
   "metadata": {
    "collapsed": false,
    "deletable": true,
    "editable": true
   },
   "outputs": [],
   "source": [
    "for (pkg in top_pkgs$package) {\n",
    "    \n",
    "    ##################################################################\n",
    "    # Clone package\n",
    "    ##################################################################\n",
    "    \n",
    "    repo_dir <- file.path(repos_dir, pkg)\n",
    "    if (!dir.exists(repo_dir)) {\n",
    "        dir.create(repo_dir)\n",
    "    }\n",
    "    \n",
    "    # Use sparse-checkout to download only R files in the R directory\n",
    "    repo <- init(repo_dir)\n",
    "    config(repo, core.sparsecheckout = \"true\")\n",
    "    remote_add(repo, \"origin\", sprintf(\"https://github.com/cran/%s.git\", pkg))\n",
    "    cat(\"R/*.R\", file = file.path(repo_dir, \".git\", \"info\", \"sparse-checkout\"))\n",
    "    \n",
    "    # Cannot use git2r to do this, or at least I don't know how\n",
    "    curr_dir <- setwd(repo_dir)\n",
    "    system(\"git pull --depth=1 origin master\")\n",
    "    setwd(curr_dir)\n",
    "    \n",
    "    ##################################################################\n",
    "    # Count number of occurences of each style (same line or new line)\n",
    "    ##################################################################\n",
    "    \n",
    "    files <- list.files(file.path(repo_dir, \"R\"))\n",
    "    if (length(files) <= 0) {\n",
    "        unlink(repo_dir, recursive = TRUE)\n",
    "        Sys.sleep(3)\n",
    "        next\n",
    "    }\n",
    "    \n",
    "    # Read contents of R files as strings\n",
    "    file_strs <- sapply(files, function(file_name) {\n",
    "        file_str <- readr::read_file(file.path(repo_dir, \"R\", file_name))\n",
    "    })\n",
    "    \n",
    "    # Use str_match_all from stringr to get strings that match either style\n",
    "    # as well as which style they match\n",
    "    matches <- stringr::str_match_all(file_strs, patterns)\n",
    "    \n",
    "    # Count number of matches in each style in each file\n",
    "    style_counts <- lapply(matches, function(m) {\n",
    "        list(same_line = sum(m[, 2] != \"\"), new_line = sum(m[, 3] != \"\"))\n",
    "    })\n",
    "    \n",
    "    # Aggregate results from all files\n",
    "    style_counts <-\n",
    "        style_counts %>%\n",
    "        data.table::rbindlist() %>%\n",
    "        as.data.frame() %>%\n",
    "        summarise(same_line = sum(same_line), new_line = sum(new_line)) %>%\n",
    "        mutate(package = pkg, result = \"tie\") %>%\n",
    "        mutate(result = ifelse(same_line > new_line, \"same_line\", result)) %>%\n",
    "        mutate(result = ifelse(same_line < new_line, \"new_line\", result)) %>%\n",
    "        select(package, same_line, new_line, result)\n",
    "    \n",
    "    ##################################################################\n",
    "    # Append result to result file\n",
    "    ##################################################################\n",
    "    \n",
    "    write.table(style_counts, file = result_file, sep = \",\", append = TRUE,\n",
    "                row.names = FALSE, col.names = FALSE, quote = FALSE)\n",
    "    \n",
    "    ##################################################################\n",
    "    # Clean stuff\n",
    "    ##################################################################\n",
    "    \n",
    "    unlink(repo_dir, recursive = TRUE)\n",
    "    Sys.sleep(3)\n",
    "}"
   ]
  },
  {
   "cell_type": "markdown",
   "metadata": {
    "deletable": true,
    "editable": true
   },
   "source": [
    "## And the results"
   ]
  },
  {
   "cell_type": "markdown",
   "metadata": {
    "deletable": true,
    "editable": true
   },
   "source": [
    "Read results from csv file:"
   ]
  },
  {
   "cell_type": "code",
   "execution_count": 17,
   "metadata": {
    "collapsed": false,
    "deletable": true,
    "editable": true
   },
   "outputs": [
    {
     "data": {
      "text/html": [
       "<table>\n",
       "<thead><tr><th scope=col>package</th><th scope=col>same_line</th><th scope=col>new_line</th><th scope=col>result</th></tr></thead>\n",
       "<tbody>\n",
       "\t<tr><td>Rcpp     </td><td> 244     </td><td>1        </td><td>same_line</td></tr>\n",
       "\t<tr><td>ggplot2  </td><td>1461     </td><td>0        </td><td>same_line</td></tr>\n",
       "\t<tr><td>stringr  </td><td>  78     </td><td>0        </td><td>same_line</td></tr>\n",
       "\t<tr><td>plyr     </td><td> 312     </td><td>0        </td><td>same_line</td></tr>\n",
       "\t<tr><td>digest   </td><td>  69     </td><td>0        </td><td>same_line</td></tr>\n",
       "\t<tr><td>reshape2 </td><td>  68     </td><td>0        </td><td>same_line</td></tr>\n",
       "</tbody>\n",
       "</table>\n"
      ],
      "text/latex": [
       "\\begin{tabular}{r|llll}\n",
       " package & same\\_line & new\\_line & result\\\\\n",
       "\\hline\n",
       "\t Rcpp        &  244        & 1           & same\\_line\\\\\n",
       "\t ggplot2     & 1461        & 0           & same\\_line\\\\\n",
       "\t stringr     &   78        & 0           & same\\_line\\\\\n",
       "\t plyr        &  312        & 0           & same\\_line\\\\\n",
       "\t digest      &   69        & 0           & same\\_line\\\\\n",
       "\t reshape2    &   68        & 0           & same\\_line\\\\\n",
       "\\end{tabular}\n"
      ],
      "text/markdown": [
       "\n",
       "package | same_line | new_line | result | \n",
       "|---|---|---|---|---|---|\n",
       "| Rcpp      |  244      | 1         | same_line | \n",
       "| ggplot2   | 1461      | 0         | same_line | \n",
       "| stringr   |   78      | 0         | same_line | \n",
       "| plyr      |  312      | 0         | same_line | \n",
       "| digest    |   69      | 0         | same_line | \n",
       "| reshape2  |   68      | 0         | same_line | \n",
       "\n",
       "\n"
      ],
      "text/plain": [
       "  package  same_line new_line result   \n",
       "1 Rcpp      244      1        same_line\n",
       "2 ggplot2  1461      0        same_line\n",
       "3 stringr    78      0        same_line\n",
       "4 plyr      312      0        same_line\n",
       "5 digest     69      0        same_line\n",
       "6 reshape2   68      0        same_line"
      ]
     },
     "metadata": {},
     "output_type": "display_data"
    }
   ],
   "source": [
    "results <- data.table::fread(result_file)\n",
    "head(results)"
   ]
  },
  {
   "cell_type": "markdown",
   "metadata": {
    "deletable": true,
    "editable": true
   },
   "source": [
    "Count total number of matches in each style in all 100 packages:"
   ]
  },
  {
   "cell_type": "code",
   "execution_count": 18,
   "metadata": {
    "collapsed": false,
    "deletable": true,
    "editable": true
   },
   "outputs": [
    {
     "data": {
      "text/html": [
       "<table>\n",
       "<thead><tr><th scope=col>style</th><th scope=col>count</th></tr></thead>\n",
       "<tbody>\n",
       "\t<tr><td>same_line</td><td>31743    </td></tr>\n",
       "\t<tr><td>new_line </td><td> 4206    </td></tr>\n",
       "</tbody>\n",
       "</table>\n"
      ],
      "text/latex": [
       "\\begin{tabular}{r|ll}\n",
       " style & count\\\\\n",
       "\\hline\n",
       "\t same\\_line & 31743      \\\\\n",
       "\t new\\_line  &  4206      \\\\\n",
       "\\end{tabular}\n"
      ],
      "text/markdown": [
       "\n",
       "style | count | \n",
       "|---|---|\n",
       "| same_line | 31743     | \n",
       "| new_line  |  4206     | \n",
       "\n",
       "\n"
      ],
      "text/plain": [
       "  style     count\n",
       "1 same_line 31743\n",
       "2 new_line   4206"
      ]
     },
     "metadata": {},
     "output_type": "display_data"
    }
   ],
   "source": [
    "styles_by_matches <-\n",
    "    results %>%\n",
    "    summarise(same_line = sum(same_line), new_line = sum(new_line)) %>%\n",
    "    gather(key = \"style\", value = \"count\") %>%\n",
    "    arrange(desc(style))\n",
    "styles_by_matches"
   ]
  },
  {
   "cell_type": "markdown",
   "metadata": {
    "deletable": true,
    "editable": true
   },
   "source": [
    "There are **7.5 times** more same-lines than new-lines! Exactly what I want to see :)"
   ]
  },
  {
   "cell_type": "markdown",
   "metadata": {
    "deletable": true,
    "editable": true
   },
   "source": [
    "Count number of packages that follow each style:"
   ]
  },
  {
   "cell_type": "code",
   "execution_count": 19,
   "metadata": {
    "collapsed": false,
    "deletable": true,
    "editable": true
   },
   "outputs": [
    {
     "data": {
      "text/html": [
       "<table>\n",
       "<thead><tr><th scope=col>style</th><th scope=col>count</th></tr></thead>\n",
       "<tbody>\n",
       "\t<tr><td>same_line</td><td>91       </td></tr>\n",
       "\t<tr><td>new_line </td><td> 8       </td></tr>\n",
       "</tbody>\n",
       "</table>\n"
      ],
      "text/latex": [
       "\\begin{tabular}{r|ll}\n",
       " style & count\\\\\n",
       "\\hline\n",
       "\t same\\_line & 91         \\\\\n",
       "\t new\\_line  &  8         \\\\\n",
       "\\end{tabular}\n"
      ],
      "text/markdown": [
       "\n",
       "style | count | \n",
       "|---|---|\n",
       "| same_line | 91        | \n",
       "| new_line  |  8        | \n",
       "\n",
       "\n"
      ],
      "text/plain": [
       "  style     count\n",
       "1 same_line 91   \n",
       "2 new_line   8   "
      ]
     },
     "metadata": {},
     "output_type": "display_data"
    }
   ],
   "source": [
    "styles_by_pkgs <-\n",
    "    results %>%\n",
    "    count(result) %>%\n",
    "    rename(style = result, count = n) %>%\n",
    "    arrange(desc(style))\n",
    "styles_by_pkgs"
   ]
  },
  {
   "cell_type": "markdown",
   "metadata": {
    "deletable": true,
    "editable": true
   },
   "source": [
    "Out of the 100 most downloaded packages, **91** have same-lines as majority. I can totally live with this ~~"
   ]
  },
  {
   "cell_type": "markdown",
   "metadata": {
    "deletable": true,
    "editable": true
   },
   "source": [
    "Now we visualize the results to clearly see how not-a-fair-fight this is. First we combine the two data frames to use with `ggplot2`."
   ]
  },
  {
   "cell_type": "code",
   "execution_count": 20,
   "metadata": {
    "collapsed": false,
    "deletable": true,
    "editable": true
   },
   "outputs": [
    {
     "data": {},
     "metadata": {},
     "output_type": "display_data"
    },
    {
     "data": {
      "image/png": "[encoded data removed]",
      "text/plain": [
       "plot without title"
      ]
     },
     "metadata": {},
     "output_type": "display_data"
    }
   ],
   "source": [
    "ggplot(styles_by_matches, aes(x = style, y = count, fill = style)) +\n",
    "    geom_bar(stat = \"identity\") + guides(fill = FALSE) +\n",
    "    scale_x_discrete(labels = c(\"new_line\" = \"New Line\", \"same_line\" = \"Same Line\")) +\n",
    "    labs(title = \"Frequency of each style in 100 most downloaded packages\", x = \"Style\", y = \"Count\") +\n",
    "    theme(title = element_text(size = 7.5))"
   ]
  },
  {
   "cell_type": "code",
   "execution_count": 21,
   "metadata": {
    "collapsed": false,
    "deletable": true,
    "editable": true
   },
   "outputs": [
    {
     "data": {},
     "metadata": {},
     "output_type": "display_data"
    },
    {
     "data": {
      "image/png": "[encoded data removed]",
      "text/plain": [
       "plot without title"
      ]
     },
     "metadata": {},
     "output_type": "display_data"
    }
   ],
   "source": [
    "ggplot(styles_by_pkgs, aes(x = style, y = count, fill = style)) +\n",
    "    geom_bar(stat = \"identity\") + guides(fill = FALSE) +\n",
    "    scale_x_discrete(labels = c(\"new_line\" = \"New Line\", \"same_line\" = \"Same Line\")) +\n",
    "    labs(title = \"Number of packages using each style\", x = \"Style\", y = \"Count\")"
   ]
  },
  {
   "cell_type": "markdown",
   "metadata": {
    "deletable": true,
    "editable": true
   },
   "source": [
    "## Conclusion"
   ]
  },
  {
   "cell_type": "markdown",
   "metadata": {
    "deletable": true,
    "editable": true
   },
   "source": [
    "Same-lines win hands down. It's not even close."
   ]
  }
 ],
 "metadata": {
  "kernelspec": {
   "display_name": "R 3.3",
   "language": "R",
   "name": "ir33"
  },
  "language_info": {
   "codemirror_mode": "r",
   "file_extension": ".r",
   "mimetype": "text/x-r-source",
   "name": "R",
   "pygments_lexer": "r",
   "version": "3.3.2"
  }
 },
 "nbformat": 4,
 "nbformat_minor": 2
}
